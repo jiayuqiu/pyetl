{
 "cells": [
  {
   "cell_type": "code",
   "execution_count": 1,
   "id": "856c32b0",
   "metadata": {
    "ExecuteTime": {
     "end_time": "2023-07-19T05:54:32.501842Z",
     "start_time": "2023-07-19T05:54:32.234872Z"
    }
   },
   "outputs": [],
   "source": [
    "\n",
    "import pandas as pd\n",
    "import numpy as np\n",
    "\n",
    "\n",
    "from sqlalchemy import create_engine\n",
    "\n",
    "\n",
    "ck_properties = {  # clickhouse 数据库配置\n",
    "    # \"driver\": \"com.github.housepower.jdbc.ClickHouseDriver\",\n",
    "    \"driver\": \"ru.yandex.clickhouse.ClickHouseDriver\",\n",
    "    \"socket_timeout\": \"300000\",\n",
    "    \"rewriteBatchedStatements\": \"true\",\n",
    "    \"batchsize\": \"1000000\",\n",
    "    \"numPartitions\": \"8\",\n",
    "    \"user\": \"default\",\n",
    "    \"password\": \"5NsWWQeJ\",\n",
    "    \"host\": \"10.129.165.72\",\n",
    "    \"database\": 'sdecdmp',\n",
    "    \"port\": 8123\n",
    "}\n",
    "\n",
    "\n",
    "mysql_properties_prod = {  # mysql 生产环境配置\n",
    "    \"host\": \"10.129.41.147\",\n",
    "    \"port\": \"4918\",\n",
    "    \"url\": \"jdbc:mysql://10.129.41.147:4918/ck\",\n",
    "    \"user\": \"dmp_sys_guest\",\n",
    "    \"password\": \"fTe^3hy*dO_363\",\n",
    "    \"driver\": \"com.mysql.cj.jdbc.Driver\",\n",
    "    \"database\": \"ck\"\n",
    "}\n",
    "\n",
    "mysql_properties_dev = {  # mysql 开发环境配置\n",
    "    \"host\": \"10.179.98.13\",\n",
    "    \"port\": \"3306\",\n",
    "    \"url\": \"jdbc:mysql://10.179.98.13:3306/ck\",\n",
    "    \"user\": \"root\",\n",
    "    \"password\": \"DMP_test135#\",\n",
    "    \"driver\": \"com.mysql.cj.jdbc.Driver\",\n",
    "    \"database\": \"ck\"\n",
    "}\n",
    "\n",
    "ck_engine = create_engine(\n",
    "    f\"clickhouse://{ck_properties['user']}:{ck_properties['password']}@{ck_properties['host']}:{ck_properties['port']}/{ck_properties['database']}\"\n",
    ")\n",
    "\n",
    "mysql_engine_prod = create_engine(\n",
    "    f\"mysql+pymysql://{mysql_properties_prod['user']}:{mysql_properties_prod['password']}\" +\n",
    "    f\"@{mysql_properties_prod['host']}:{mysql_properties_prod['port']}/{mysql_properties_prod['database']}?charset=utf8\"\n",
    ")\n",
    "\n",
    "mysql_engine_dev = create_engine(\n",
    "    f\"mysql+pymysql://{mysql_properties_dev['user']}:{mysql_properties_dev['password']}\" +\n",
    "    f\"@{mysql_properties_dev['host']}:{mysql_properties_dev['port']}/{mysql_properties_dev['database']}?charset=utf8\"\n",
    ")\n",
    "                 "
   ]
  },
  {
   "cell_type": "code",
   "execution_count": 4,
   "id": "721b6b87",
   "metadata": {
    "ExecuteTime": {
     "end_time": "2023-07-19T05:55:00.218948Z",
     "start_time": "2023-07-19T05:54:58.885897Z"
    }
   },
   "outputs": [],
   "source": [
    "from pympler import tracker\n",
    "tr = tracker.SummaryTracker()\n",
    "# tr.function_without_side_effects()"
   ]
  },
  {
   "cell_type": "code",
   "execution_count": 5,
   "id": "5e118bb5",
   "metadata": {
    "ExecuteTime": {
     "end_time": "2023-07-19T05:55:09.515388Z",
     "start_time": "2023-07-19T05:55:07.458896Z"
    }
   },
   "outputs": [
    {
     "name": "stdout",
     "output_type": "stream",
     "text": [
      "                                 types |   # objects |   total size\n",
      "====================================== | =========== | ============\n",
      "             pandas.core.series.Series |           5 |    496.36 KB\n",
      "           pandas.core.frame.DataFrame |           1 |    495.80 KB\n",
      "                         numpy.ndarray |          13 |     89.08 KB\n",
      "                                  dict |         167 |     32.74 KB\n",
      "                     collections.deque |          43 |     26.20 KB\n",
      "                                   str |          94 |     16.60 KB\n",
      "                                   set |           8 |     16.19 KB\n",
      "                 weakref.ReferenceType |         141 |      9.91 KB\n",
      "                                  code |           2 |      7.39 KB\n",
      "                                  type |           1 |      6.20 KB\n",
      "            builtin_function_or_method |          82 |      5.77 KB\n",
      "                                  list |          38 |      2.97 KB\n",
      "                                 tuple |          42 |      2.58 KB\n",
      "  sqlalchemy.event.attr._EmptyListener |          38 |      2.38 KB\n",
      "               collections.OrderedDict |           4 |      1.40 KB\n"
     ]
    }
   ],
   "source": [
    "conf = {'hos_series': 'D', 'date': '2023-05-06'}\n",
    "online_ein_sql = f\"\"\"\n",
    "    select B.ein1 as ein,\n",
    "           B.uploadDate,\n",
    "           B.cnt,\n",
    "           C.hos_id,\n",
    "           C.hos_series\n",
    "    from (select *\n",
    "          from (select if(startsWith(sma.ein, '0'), substring(sma.ein, 2, LENGTH(sma.ein)), sma.ein) as ein1\n",
    "                     , any(uploadDate)                                                               as uploadDate\n",
    "                     , count(1)                                                                      as cnt\n",
    "                from sdecdmp.SDECData2M_all sma\n",
    "                where sma.uploadDate = '{conf['date']}'\n",
    "                group by ein1) A\n",
    "          where A.cnt > 0\n",
    "            and A.ein1 <> '') B\n",
    "             left join (\n",
    "        select hos_id, hos_series\n",
    "        from ck_mysql.device_all\n",
    "        where hos_series = '{conf['hos_series'] + '系列'}'\n",
    "        ) C on B.ein1 = C.hos_id\n",
    "    where C.hos_series is not null\n",
    "    \"\"\"\n",
    "online_ein_df = pd.read_sql(\n",
    "    sql=online_ein_sql,\n",
    "    con=ck_engine\n",
    ")\n",
    "online_ein_df.sort_values(by='cnt', ascending=False)\n",
    "tr.print_diff()"
   ]
  },
  {
   "cell_type": "code",
   "execution_count": 6,
   "id": "9ca76569",
   "metadata": {
    "ExecuteTime": {
     "end_time": "2023-07-19T05:55:26.785716Z",
     "start_time": "2023-07-19T05:55:25.429299Z"
    }
   },
   "outputs": [
    {
     "name": "stdout",
     "output_type": "stream",
     "text": [
      "                       types |   # objects |   total size\n",
      "============================ | =========== | ============\n",
      "                         str |          77 |     41.26 KB\n",
      "       weakref.ReferenceType |          70 |      4.92 KB\n",
      "  builtin_function_or_method |          68 |      4.78 KB\n",
      "                        list |          50 |      4.23 KB\n",
      "                       bytes |          17 |      3.21 KB\n",
      "                         set |          10 |      2.61 KB\n",
      "                        dict |          13 |      2.31 KB\n",
      "                        code |           3 |      2.11 KB\n",
      "                       tuple |          23 |      1.34 KB\n",
      "                  re.Pattern |           1 |    752     B\n",
      "           collections.deque |           1 |    624     B\n",
      "                        cell |          12 |    480     B\n",
      "                        type |           0 |    408     B\n",
      "                         int |          11 |    308     B\n",
      "                    ast.Name |           6 |    288     B\n"
     ]
    }
   ],
   "source": [
    "def snat_data_loader(conf: dict, eins: list) -> str:\n",
    "    \"\"\"\n",
    "    读取ck原始数据\n",
    "\n",
    "    :param conf: 任务配置\n",
    "    :param eins: 当日在线的车辆列表\n",
    "    :return: 原始数据获取sql\n",
    "    \"\"\"\n",
    "    # eins = snat_online_loader(date, series)\n",
    "    eins_str = \"'\" + \"', '\".join(eins) + \"'\"\n",
    "\n",
    "    snat_sql = f\"\"\"\n",
    "    select if(startsWith(ein, '0'), substring(ein, 2, LENGTH(ein)), ein)    as ein1\n",
    "        , deviceID                                                          as vin\n",
    "        , formatDateTime(uploadTime1, '%Y-%m-%d %H:%M:%S')                  as uploadTime1_\n",
    "        , arrayStringConcat(arrayMap(x -> toString(x), params.valueM), ',') as valueM\n",
    "        , arrayStringConcat(params.codeM, ',')                              as codeM\n",
    "        , longitude\n",
    "        , latitude\n",
    "        , uploadDate\n",
    "    from sdecdmp.SDECData2M_all sma\n",
    "    where\n",
    "        sma.uploadDate = '{conf['date']}'\n",
    "        and params.valueM is not null and params.codeM is not null\n",
    "        and ein <> ''\n",
    "        and ein1 in ({eins_str})\n",
    "    limit 10000\n",
    "    \"\"\"\n",
    "    return snat_sql\n",
    "\n",
    "snat_df_sql = snat_data_loader(conf, list(online_ein_df['ein']))\n",
    "snat_df_sql\n",
    "tr.print_diff()"
   ]
  },
  {
   "cell_type": "code",
   "execution_count": 7,
   "id": "429fa235",
   "metadata": {
    "ExecuteTime": {
     "end_time": "2023-07-19T05:55:46.344891Z",
     "start_time": "2023-07-19T05:55:43.084363Z"
    }
   },
   "outputs": [
    {
     "name": "stdout",
     "output_type": "stream",
     "text": [
      "          ein1                vin         uploadTime1_  \\\n",
      "0  D821900015C  LSCDECD821900015C  2023-05-06 17:28:17   \n",
      "1  D821900015C  LSCDECD821900015C  2023-05-06 17:28:18   \n",
      "2  D821900015C  LSCDECD821900015C  2023-05-06 17:28:19   \n",
      "3  D821900015C  LSCDECD821900015C  2023-05-06 17:28:20   \n",
      "4  D821900015C  LSCDECD821900015C  2023-05-06 17:28:21   \n",
      "\n",
      "                                              valueM  \\\n",
      "0  0,52.15,1937.221,0,500,3529.411765,2,2,0,0,0,3...   \n",
      "1  0,50.25,1937.221,0,500,3529.411765,2,2,0,0,0,3...   \n",
      "2  0,51.1,1937.221,0,500,3529.411765,2,2,0,0,0,34...   \n",
      "3  0,50.3,1937.221,0,500,3529.411765,2,2,0,0,0,34...   \n",
      "4  0,50.25,1905.849,0,500,3529.411765,2,2,0,0,0,3...   \n",
      "\n",
      "                                               codeM  longitude   latitude  \\\n",
      "0  SAE_J000182,SAE_J000183,DCW_U01070B,DCW_U01070...  88.058472  47.035938   \n",
      "1  SAE_J000182,SAE_J000183,DCW_U01070B,DCW_U01070...  88.058484  47.035927   \n",
      "2  SAE_J000182,SAE_J000183,DCW_U01070B,DCW_U01070...  88.058495  47.035915   \n",
      "3  SAE_J000182,SAE_J000183,DCW_U01070B,DCW_U01070...  88.058505  47.035905   \n",
      "4  SAE_J000182,SAE_J000183,DCW_U01070B,DCW_U01070...  88.058513  47.035894   \n",
      "\n",
      "   uploadDate  \n",
      "0  2023-05-06  \n",
      "1  2023-05-06  \n",
      "2  2023-05-06  \n",
      "3  2023-05-06  \n",
      "4  2023-05-06  \n",
      "                                     types |   # objects |   total size\n",
      "========================================== | =========== | ============\n",
      "                 pandas.core.series.Series |           8 |     21.38 MB\n",
      "               pandas.core.frame.DataFrame |           1 |     21.38 MB\n",
      "                             numpy.ndarray |          13 |    626.69 KB\n",
      "                                       str |          62 |     90.00 KB\n",
      "                                      dict |          61 |      5.45 KB\n",
      "                                      code |          12 |      4.39 KB\n",
      "                                      type |           1 |      4.34 KB\n",
      "                     weakref.ReferenceType |          30 |      2.11 KB\n",
      "                                     tuple |          27 |      1.77 KB\n",
      "            pandas.core.indexes.base.Index |           1 |    829     B\n",
      "                                      list |          13 |    800     B\n",
      "  pandas.core.internals.blocks.ObjectBlock |           9 |    792     B\n",
      "     pandas._libs.internals.BlockPlacement |           9 |    648     B\n",
      "                                     slice |           9 |    504     B\n",
      "                   pandas.core.flags.Flags |           9 |    432     B\n"
     ]
    }
   ],
   "source": [
    "from sqlalchemy import text\n",
    "\n",
    "data_df = pd.read_sql(\n",
    "    sql=text(snat_df_sql), con=ck_engine\n",
    ")\n",
    "print(data_df.head())\n",
    "tr.print_diff()"
   ]
  },
  {
   "cell_type": "code",
   "execution_count": 10,
   "id": "5fd328b3",
   "metadata": {
    "ExecuteTime": {
     "end_time": "2023-07-19T06:26:18.108603Z",
     "start_time": "2023-07-19T06:26:18.105727Z"
    }
   },
   "outputs": [
    {
     "name": "stdout",
     "output_type": "stream",
     "text": [
      "占用内存预估: 100.98088227539061 GB\n"
     ]
    }
   ],
   "source": [
    "gb = (sum(online_ein_df['cnt']) / 10000) * 21.38 / 1024\n",
    "print(f\"占用内存预估: {gb} GB\")"
   ]
  }
 ],
 "metadata": {
  "kernelspec": {
   "display_name": "Python 3 (ipykernel)",
   "language": "python",
   "name": "python3"
  },
  "language_info": {
   "codemirror_mode": {
    "name": "ipython",
    "version": 3
   },
   "file_extension": ".py",
   "mimetype": "text/x-python",
   "name": "python",
   "nbconvert_exporter": "python",
   "pygments_lexer": "ipython3",
   "version": "3.10.10"
  },
  "toc": {
   "base_numbering": 1,
   "nav_menu": {},
   "number_sections": true,
   "sideBar": true,
   "skip_h1_title": false,
   "title_cell": "Table of Contents",
   "title_sidebar": "Contents",
   "toc_cell": false,
   "toc_position": {},
   "toc_section_display": true,
   "toc_window_display": false
  },
  "varInspector": {
   "cols": {
    "lenName": 16,
    "lenType": 16,
    "lenVar": 40
   },
   "kernels_config": {
    "python": {
     "delete_cmd_postfix": "",
     "delete_cmd_prefix": "del ",
     "library": "var_list.py",
     "varRefreshCmd": "print(var_dic_list())"
    },
    "r": {
     "delete_cmd_postfix": ") ",
     "delete_cmd_prefix": "rm(",
     "library": "var_list.r",
     "varRefreshCmd": "cat(var_dic_list()) "
    }
   },
   "position": {
    "height": "335.85px",
    "left": "1537.97px",
    "right": "20px",
    "top": "122px",
    "width": "331.033px"
   },
   "types_to_exclude": [
    "module",
    "function",
    "builtin_function_or_method",
    "instance",
    "_Feature"
   ],
   "window_display": false
  }
 },
 "nbformat": 4,
 "nbformat_minor": 5
}
