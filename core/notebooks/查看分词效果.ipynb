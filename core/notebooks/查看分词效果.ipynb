{
 "cells": [
  {
   "cell_type": "code",
   "execution_count": 12,
   "id": "3ef5bdaf",
   "metadata": {
    "ExecuteTime": {
     "end_time": "2023-08-08T10:25:49.800914Z",
     "start_time": "2023-08-08T10:25:49.795906Z"
    }
   },
   "outputs": [],
   "source": [
    "import os\n",
    "import pandas as pd\n",
    "import numpy as np\n",
    "import jieba\n",
    "from sklearn.metrics.pairwise import cosine_similarity\n",
    "from sklearn.feature_extraction.text import CountVectorizer\n",
    "from gensim.models import Word2Vec\n",
    "\n",
    "\n",
    "def cos():\n",
    "    \"\"\"\n",
    "    jieba分词后计算余弦相似度\n",
    "    :return:\n",
    "    \"\"\"\n",
    "    vectorizer = CountVectorizer()\n",
    "    X = vectorizer.fit_transform(df['desc_cut'])\n",
    "    similarity_matrix = cosine_similarity(X)\n",
    "    indices = np.where(similarity_matrix > 0.6)\n",
    "    print(indices[0], indices[1])\n",
    "\n",
    "    #\n",
    "    for r, c in zip(indices[0], indices[1]):\n",
    "        if similarity_matrix[r][c] > 0.5:\n",
    "            if df['target_desc'].values[r] != df['target_desc'].values[c]:\n",
    "                print(similarity_matrix[r][c], df['target_desc'].values[r], df['target_desc'].values[c])\n",
    "\n",
    "\n",
    "def w2v(df):\n",
    "    # 将分词后的文本转换为列表形式\n",
    "    sentences = [desc.split() for desc in df['seg_desc']]\n",
    "\n",
    "    # 训练Word2Vec模型\n",
    "    model = Word2Vec(sentences, vector_size=80, window=2, min_count=1, workers=4)\n",
    "\n",
    "    # 获取每个元素的Word2Vec向量表示\n",
    "    vec_desc = df['seg_desc'].apply(lambda x: [model.wv[word] for word in x.split()])\n",
    "\n",
    "    # 输出每个元素的Word2Vec向量表示\n",
    "    return vec_desc\n",
    "\n",
    "\n",
    "def get_cos_similarities(df):\n",
    "    # 计算每个元素之间的相似性\n",
    "    similarities = []\n",
    "    for i in range(len(df)):\n",
    "        for j in range(i+1, len(df)):\n",
    "            sim = cosine_similarity(df['vec_desc'].iloc[i], df['vec_desc'].iloc[j])\n",
    "            similarities.append((i, j, sim))\n",
    "\n",
    "    # 输出相似性结果\n",
    "    sim_list = []\n",
    "    for i, j, sim in similarities:\n",
    "        # print(f\"Element {i} and Element {j} similarity: {sim}\")\n",
    "        # print(f\"{df['seg_desc'].values[i]} and {df['seg_desc'].values[j]} similarity: {sim}\")\n",
    "        if df['target_desc'].values[i] != df['target_desc'].values[j]:\n",
    "            sim_list.append([df['target_desc'].values[i], df['target_desc'].values[j], np.mean(sim)])\n",
    "    sim_df = pd.DataFrame(sim_list, columns=['name_1', 'name_2', 'sim'])\n",
    "    print(sim_df)\n",
    "    sim_df.boxplot(column='sim')\n",
    "    return sim_df"
   ]
  },
  {
   "cell_type": "code",
   "execution_count": 13,
   "id": "3e0082d5",
   "metadata": {
    "ExecuteTime": {
     "end_time": "2023-08-08T10:26:08.169744Z",
     "start_time": "2023-08-08T10:25:50.755683Z"
    }
   },
   "outputs": [
    {
     "name": "stdout",
     "output_type": "stream",
     "text": [
      "         name_1    name_2       sim\n",
      "0        泵驱动占空比      闭环系数 -0.003034\n",
      "1        泵驱动占空比  部分再生成功次数 -0.058597\n",
      "2        泵驱动占空比  部分再生成功次数 -0.058597\n",
      "3        泵驱动占空比      参考扭矩  0.031346\n",
      "4        泵驱动占空比        车速  0.052055\n",
      "...         ...       ...       ...\n",
      "55179  Trip尿素消耗    Trip油耗  0.128251\n",
      "55180  Trip尿素消耗     总尿素消耗  0.194713\n",
      "55181  Trip尿素消耗    Trip油耗  0.128251\n",
      "55182  Trip尿素消耗     总尿素消耗  0.194713\n",
      "55183    Trip油耗     总尿素消耗 -0.030651\n",
      "\n",
      "[55184 rows x 3 columns]\n"
     ]
    },
    {
     "data": {
      "text/html": [
       "<div>\n",
       "<style scoped>\n",
       "    .dataframe tbody tr th:only-of-type {\n",
       "        vertical-align: middle;\n",
       "    }\n",
       "\n",
       "    .dataframe tbody tr th {\n",
       "        vertical-align: top;\n",
       "    }\n",
       "\n",
       "    .dataframe thead th {\n",
       "        text-align: right;\n",
       "    }\n",
       "</style>\n",
       "<table border=\"1\" class=\"dataframe\">\n",
       "  <thead>\n",
       "    <tr style=\"text-align: right;\">\n",
       "      <th></th>\n",
       "      <th>name_1</th>\n",
       "      <th>name_2</th>\n",
       "      <th>sim</th>\n",
       "    </tr>\n",
       "  </thead>\n",
       "  <tbody>\n",
       "    <tr>\n",
       "      <th>0</th>\n",
       "      <td>泵驱动占空比</td>\n",
       "      <td>闭环系数</td>\n",
       "      <td>-0.003034</td>\n",
       "    </tr>\n",
       "    <tr>\n",
       "      <th>1</th>\n",
       "      <td>泵驱动占空比</td>\n",
       "      <td>部分再生成功次数</td>\n",
       "      <td>-0.058597</td>\n",
       "    </tr>\n",
       "    <tr>\n",
       "      <th>2</th>\n",
       "      <td>泵驱动占空比</td>\n",
       "      <td>部分再生成功次数</td>\n",
       "      <td>-0.058597</td>\n",
       "    </tr>\n",
       "    <tr>\n",
       "      <th>3</th>\n",
       "      <td>泵驱动占空比</td>\n",
       "      <td>参考扭矩</td>\n",
       "      <td>0.031346</td>\n",
       "    </tr>\n",
       "    <tr>\n",
       "      <th>4</th>\n",
       "      <td>泵驱动占空比</td>\n",
       "      <td>车速</td>\n",
       "      <td>0.052055</td>\n",
       "    </tr>\n",
       "    <tr>\n",
       "      <th>...</th>\n",
       "      <td>...</td>\n",
       "      <td>...</td>\n",
       "      <td>...</td>\n",
       "    </tr>\n",
       "    <tr>\n",
       "      <th>55179</th>\n",
       "      <td>Trip尿素消耗</td>\n",
       "      <td>Trip油耗</td>\n",
       "      <td>0.128251</td>\n",
       "    </tr>\n",
       "    <tr>\n",
       "      <th>55180</th>\n",
       "      <td>Trip尿素消耗</td>\n",
       "      <td>总尿素消耗</td>\n",
       "      <td>0.194713</td>\n",
       "    </tr>\n",
       "    <tr>\n",
       "      <th>55181</th>\n",
       "      <td>Trip尿素消耗</td>\n",
       "      <td>Trip油耗</td>\n",
       "      <td>0.128251</td>\n",
       "    </tr>\n",
       "    <tr>\n",
       "      <th>55182</th>\n",
       "      <td>Trip尿素消耗</td>\n",
       "      <td>总尿素消耗</td>\n",
       "      <td>0.194713</td>\n",
       "    </tr>\n",
       "    <tr>\n",
       "      <th>55183</th>\n",
       "      <td>Trip油耗</td>\n",
       "      <td>总尿素消耗</td>\n",
       "      <td>-0.030651</td>\n",
       "    </tr>\n",
       "  </tbody>\n",
       "</table>\n",
       "<p>55184 rows × 3 columns</p>\n",
       "</div>"
      ],
      "text/plain": [
       "         name_1    name_2       sim\n",
       "0        泵驱动占空比      闭环系数 -0.003034\n",
       "1        泵驱动占空比  部分再生成功次数 -0.058597\n",
       "2        泵驱动占空比  部分再生成功次数 -0.058597\n",
       "3        泵驱动占空比      参考扭矩  0.031346\n",
       "4        泵驱动占空比        车速  0.052055\n",
       "...         ...       ...       ...\n",
       "55179  Trip尿素消耗    Trip油耗  0.128251\n",
       "55180  Trip尿素消耗     总尿素消耗  0.194713\n",
       "55181  Trip尿素消耗    Trip油耗  0.128251\n",
       "55182  Trip尿素消耗     总尿素消耗  0.194713\n",
       "55183    Trip油耗     总尿素消耗 -0.030651\n",
       "\n",
       "[55184 rows x 3 columns]"
      ]
     },
     "execution_count": 13,
     "metadata": {},
     "output_type": "execute_result"
    },
    {
     "data": {
      "image/png": "[encoded data removed]",
      "text/plain": [
       "<Figure size 432x288 with 1 Axes>"
      ]
     },
     "metadata": {
      "needs_background": "light"
     },
     "output_type": "display_data"
    }
   ],
   "source": [
    "workpath = '/home/qjy20472/pythonProjects/pyetl'\n",
    "df = pd.read_excel(os.path.join(workpath, 'data/PID统计_all.xlsx'), sheet_name='PID')\n",
    "df = df.loc[~df['target_desc'].isna()]\n",
    "df['seg_desc'] = df['target_desc'].apply(lambda x: ' '.join(jieba.cut(x)))\n",
    "\n",
    "# w2v\n",
    "df.loc[:, 'vec_desc'] = w2v(df)\n",
    "\n",
    "# cos similarities\n",
    "sim_df = get_cos_similarities(df)\n",
    "sim_df"
   ]
  },
  {
   "cell_type": "code",
   "execution_count": 15,
   "id": "c0be935c",
   "metadata": {
    "ExecuteTime": {
     "end_time": "2023-08-08T10:27:15.450655Z",
     "start_time": "2023-08-08T10:27:15.443497Z"
    }
   },
   "outputs": [
    {
     "data": {
      "text/html": [
       "<div>\n",
       "<style scoped>\n",
       "    .dataframe tbody tr th:only-of-type {\n",
       "        vertical-align: middle;\n",
       "    }\n",
       "\n",
       "    .dataframe tbody tr th {\n",
       "        vertical-align: top;\n",
       "    }\n",
       "\n",
       "    .dataframe thead th {\n",
       "        text-align: right;\n",
       "    }\n",
       "</style>\n",
       "<table border=\"1\" class=\"dataframe\">\n",
       "  <thead>\n",
       "    <tr style=\"text-align: right;\">\n",
       "      <th></th>\n",
       "      <th>sim</th>\n",
       "    </tr>\n",
       "  </thead>\n",
       "  <tbody>\n",
       "    <tr>\n",
       "      <th>count</th>\n",
       "      <td>55184.000000</td>\n",
       "    </tr>\n",
       "    <tr>\n",
       "      <th>mean</th>\n",
       "      <td>0.011611</td>\n",
       "    </tr>\n",
       "    <tr>\n",
       "      <th>std</th>\n",
       "      <td>0.054256</td>\n",
       "    </tr>\n",
       "    <tr>\n",
       "      <th>min</th>\n",
       "      <td>-0.206966</td>\n",
       "    </tr>\n",
       "    <tr>\n",
       "      <th>25%</th>\n",
       "      <td>-0.021338</td>\n",
       "    </tr>\n",
       "    <tr>\n",
       "      <th>50%</th>\n",
       "      <td>0.006808</td>\n",
       "    </tr>\n",
       "    <tr>\n",
       "      <th>75%</th>\n",
       "      <td>0.036595</td>\n",
       "    </tr>\n",
       "    <tr>\n",
       "      <th>max</th>\n",
       "      <td>0.578353</td>\n",
       "    </tr>\n",
       "  </tbody>\n",
       "</table>\n",
       "</div>"
      ],
      "text/plain": [
       "                sim\n",
       "count  55184.000000\n",
       "mean       0.011611\n",
       "std        0.054256\n",
       "min       -0.206966\n",
       "25%       -0.021338\n",
       "50%        0.006808\n",
       "75%        0.036595\n",
       "max        0.578353"
      ]
     },
     "execution_count": 15,
     "metadata": {},
     "output_type": "execute_result"
    }
   ],
   "source": [
    "sim_df.describe()"
   ]
  },
  {
   "cell_type": "code",
   "execution_count": 23,
   "id": "68a781e4",
   "metadata": {
    "ExecuteTime": {
     "end_time": "2023-08-08T10:32:26.278920Z",
     "start_time": "2023-08-08T10:32:26.275381Z"
    }
   },
   "outputs": [],
   "source": [
    "sim_df.loc[sim_df['sim'] > 0.3].to_csv(os.path.join(workpath, 'data/PID统计_all_相似字段.csv'), index=False, encoding='utf-8-sig')"
   ]
  }
 ],
 "metadata": {
  "kernelspec": {
   "display_name": "Python 3",
   "language": "python",
   "name": "python3"
  },
  "language_info": {
   "codemirror_mode": {
    "name": "ipython",
    "version": 3
   },
   "file_extension": ".py",
   "mimetype": "text/x-python",
   "name": "python",
   "nbconvert_exporter": "python",
   "pygments_lexer": "ipython3",
   "version": "3.10.10"
  },
  "toc": {
   "base_numbering": 1,
   "nav_menu": {},
   "number_sections": true,
   "sideBar": true,
   "skip_h1_title": false,
   "title_cell": "Table of Contents",
   "title_sidebar": "Contents",
   "toc_cell": false,
   "toc_position": {},
   "toc_section_display": true,
   "toc_window_display": false
  },
  "varInspector": {
   "cols": {
    "lenName": 16,
    "lenType": 16,
    "lenVar": 40
   },
   "kernels_config": {
    "python": {
     "delete_cmd_postfix": "",
     "delete_cmd_prefix": "del ",
     "library": "var_list.py",
     "varRefreshCmd": "print(var_dic_list())"
    },
    "r": {
     "delete_cmd_postfix": ") ",
     "delete_cmd_prefix": "rm(",
     "library": "var_list.r",
     "varRefreshCmd": "cat(var_dic_list()) "
    }
   },
   "types_to_exclude": [
    "module",
    "function",
    "builtin_function_or_method",
    "instance",
    "_Feature"
   ],
   "window_display": false
  }
 },
 "nbformat": 4,
 "nbformat_minor": 5
}
