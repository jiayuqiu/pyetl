{
 "cells": [
  {
   "cell_type": "code",
   "execution_count": 3,
   "metadata": {},
   "outputs": [],
   "source": [
    "\n",
    "import pandas as pd\n",
    "import numpy as np\n",
    "\n",
    "\n",
    "from sqlalchemy import create_engine\n",
    "\n",
    "\n",
    "ck_properties = {  # clickhouse 数据库配置\n",
    "    # \"driver\": \"com.github.housepower.jdbc.ClickHouseDriver\",\n",
    "    \"driver\": \"ru.yandex.clickhouse.ClickHouseDriver\",\n",
    "    \"socket_timeout\": \"300000\",\n",
    "    \"rewriteBatchedStatements\": \"true\",\n",
    "    \"batchsize\": \"1000000\",\n",
    "    \"numPartitions\": \"8\",\n",
    "    \"user\": \"default\",\n",
    "    \"password\": \"5NsWWQeJ\",\n",
    "    \"host\": \"10.129.165.72\",\n",
    "    \"database\": 'sdecdmp',\n",
    "    \"port\": 8123\n",
    "}\n",
    "\n",
    "\n",
    "mysql_properties_prod = {  # mysql 生产环境配置\n",
    "    \"host\": \"10.129.41.147\",\n",
    "    \"port\": \"4918\",\n",
    "    \"url\": \"jdbc:mysql://10.129.41.147:4918/ck\",\n",
    "    \"user\": \"dmp_sys_guest\",\n",
    "    \"password\": \"fTe^3hy*dO_363\",\n",
    "    \"driver\": \"com.mysql.cj.jdbc.Driver\",\n",
    "    \"database\": \"ck\"\n",
    "}\n",
    "\n",
    "mysql_properties_dev = {  # mysql 开发环境配置\n",
    "    \"host\": \"10.179.98.13\",\n",
    "    \"port\": \"3306\",\n",
    "    \"url\": \"jdbc:mysql://10.179.98.13:3306/ck\",\n",
    "    \"user\": \"root\",\n",
    "    \"password\": \"DMP_test135#\",\n",
    "    \"driver\": \"com.mysql.cj.jdbc.Driver\",\n",
    "    \"database\": \"ck\"\n",
    "}\n",
    "\n",
    "ck_engine = create_engine(\n",
    "    f\"clickhouse://{ck_properties['user']}:{ck_properties['password']}@{ck_properties['host']}:{ck_properties['port']}/{ck_properties['database']}\"\n",
    ")\n",
    "\n",
    "mysql_engine_prod = create_engine(\n",
    "    f\"mysql+pymysql://{mysql_properties_prod['user']}:{mysql_properties_prod['password']}\" +\n",
    "    f\"@{mysql_properties_prod['host']}:{mysql_properties_prod['port']}/{mysql_properties_prod['database']}?charset=utf8\"\n",
    ")\n",
    "\n",
    "mysql_engine_dev = create_engine(\n",
    "    f\"mysql+pymysql://{mysql_properties_dev['user']}:{mysql_properties_dev['password']}\" +\n",
    "    f\"@{mysql_properties_dev['host']}:{mysql_properties_dev['port']}/{mysql_properties_dev['database']}?charset=utf8\"\n",
    ")\n",
    "                 "
   ]
  },
  {
   "cell_type": "code",
   "execution_count": 4,
   "metadata": {},
   "outputs": [
    {
     "data": {
      "text/plain": [
       "(77236094, 2)"
      ]
     },
     "execution_count": 2,
     "metadata": {},
     "output_type": "execute_result"
    }
   ],
   "source": [
    "# 读取原始数据ein与uploadTime\n",
    "date = '2023-07-08'\n",
    "org_df = pd.read_sql(\n",
    "    sql=f\"\"\"\n",
    "    select\n",
    "        ein, toUnixTimestamp(uploadTime1) as clt_timestamp\n",
    "    from\n",
    "        sdecdmp.SDECData2M_all\n",
    "    where\n",
    "        uploadDate = '{date}' and ein <> ''\n",
    "    \"\"\",\n",
    "    con=ck_engine\n",
    ")\n",
    "org_df.shape"
   ]
  },
  {
   "cell_type": "code",
   "execution_count": 5,
   "metadata": {},
   "outputs": [
    {
     "data": {
      "text/plain": [
       "(77236094, 2)"
      ]
     },
     "execution_count": 3,
     "metadata": {},
     "output_type": "execute_result"
    }
   ],
   "source": [
    "etl_df = pd.read_sql(\n",
    "    sql=f\"\"\"\n",
    "    select\n",
    "        ein, clt_timestamp\n",
    "    from\n",
    "        sdecdmp.etl_data_v2\n",
    "    where\n",
    "        clt_date = '{date}'\n",
    "    \"\"\",\n",
    "    con=ck_engine\n",
    ")\n",
    "etl_df.shape"
   ]
  },
  {
   "cell_type": "code",
   "execution_count": 35,
   "metadata": {},
   "outputs": [
    {
     "data": {
      "text/html": [
       "<div>\n",
       "<style scoped>\n",
       "    .dataframe tbody tr th:only-of-type {\n",
       "        vertical-align: middle;\n",
       "    }\n",
       "\n",
       "    .dataframe tbody tr th {\n",
       "        vertical-align: top;\n",
       "    }\n",
       "\n",
       "    .dataframe thead th {\n",
       "        text-align: right;\n",
       "    }\n",
       "</style>\n",
       "<table border=\"1\" class=\"dataframe\">\n",
       "  <thead>\n",
       "    <tr style=\"text-align: right;\">\n",
       "      <th></th>\n",
       "      <th>ein</th>\n",
       "      <th>clt_timestap</th>\n",
       "      <th>mark</th>\n",
       "    </tr>\n",
       "  </thead>\n",
       "  <tbody>\n",
       "    <tr>\n",
       "      <th>0</th>\n",
       "      <td>D922C010451</td>\n",
       "      <td>1688782661</td>\n",
       "      <td>1</td>\n",
       "    </tr>\n",
       "    <tr>\n",
       "      <th>1</th>\n",
       "      <td>D922C010451</td>\n",
       "      <td>1688782662</td>\n",
       "      <td>1</td>\n",
       "    </tr>\n",
       "    <tr>\n",
       "      <th>2</th>\n",
       "      <td>D922C010451</td>\n",
       "      <td>1688782663</td>\n",
       "      <td>1</td>\n",
       "    </tr>\n",
       "    <tr>\n",
       "      <th>3</th>\n",
       "      <td>D922C010451</td>\n",
       "      <td>1688782664</td>\n",
       "      <td>1</td>\n",
       "    </tr>\n",
       "    <tr>\n",
       "      <th>4</th>\n",
       "      <td>D922C010451</td>\n",
       "      <td>1688782665</td>\n",
       "      <td>1</td>\n",
       "    </tr>\n",
       "  </tbody>\n",
       "</table>\n",
       "</div>"
      ],
      "text/plain": [
       "           ein  clt_timestap  mark\n",
       "0  D922C010451    1688782661     1\n",
       "1  D922C010451    1688782662     1\n",
       "2  D922C010451    1688782663     1\n",
       "3  D922C010451    1688782664     1\n",
       "4  D922C010451    1688782665     1"
      ]
     },
     "execution_count": 12,
     "metadata": {},
     "output_type": "execute_result"
    }
   ],
   "source": [
    "org_df = org_df.loc[org_df['ein']!='']\n",
    "org_df.loc[:, 'ein'] = org_df['ein'].map(lambda x: x[1:] if x[0] == '0' else x)\n",
    "org_df.loc[:, 'mark'] = [1] * org_df.shape[0]\n",
    "org_df.head()"
   ]
  },
  {
   "cell_type": "code",
   "execution_count": 31,
   "metadata": {},
   "outputs": [
    {
     "data": {
      "text/html": [
       "<div>\n",
       "<style scoped>\n",
       "    .dataframe tbody tr th:only-of-type {\n",
       "        vertical-align: middle;\n",
       "    }\n",
       "\n",
       "    .dataframe tbody tr th {\n",
       "        vertical-align: top;\n",
       "    }\n",
       "\n",
       "    .dataframe thead th {\n",
       "        text-align: right;\n",
       "    }\n",
       "</style>\n",
       "<table border=\"1\" class=\"dataframe\">\n",
       "  <thead>\n",
       "    <tr style=\"text-align: right;\">\n",
       "      <th></th>\n",
       "      <th>ein</th>\n",
       "      <th>clt_timestamp</th>\n",
       "    </tr>\n",
       "  </thead>\n",
       "  <tbody>\n",
       "    <tr>\n",
       "      <th>0</th>\n",
       "      <td>K9208000200</td>\n",
       "      <td>1688767716</td>\n",
       "    </tr>\n",
       "    <tr>\n",
       "      <th>1</th>\n",
       "      <td>K9208000200</td>\n",
       "      <td>1688767717</td>\n",
       "    </tr>\n",
       "    <tr>\n",
       "      <th>2</th>\n",
       "      <td>K9208000200</td>\n",
       "      <td>1688767718</td>\n",
       "    </tr>\n",
       "    <tr>\n",
       "      <th>3</th>\n",
       "      <td>K9208000200</td>\n",
       "      <td>1688767719</td>\n",
       "    </tr>\n",
       "    <tr>\n",
       "      <th>4</th>\n",
       "      <td>K9208000200</td>\n",
       "      <td>1688767720</td>\n",
       "    </tr>\n",
       "  </tbody>\n",
       "</table>\n",
       "</div>"
      ],
      "text/plain": [
       "           ein  clt_timestamp\n",
       "0  K9208000200     1688767716\n",
       "1  K9208000200     1688767717\n",
       "2  K9208000200     1688767718\n",
       "3  K9208000200     1688767719\n",
       "4  K9208000200     1688767720"
      ]
     },
     "execution_count": 8,
     "metadata": {},
     "output_type": "execute_result"
    }
   ],
   "source": [
    "etl_df.head()"
   ]
  }
 ],
 "metadata": {
  "kernelspec": {
   "display_name": "Python 3.7 (XPython)",
   "language": "python",
   "name": "xpython"
  },
  "language_info": {
   "file_extension": ".py",
   "mimetype": "text/x-python",
   "name": "python",
   "version": "3.7.16"
  },
  "orig_nbformat": 4
 },
 "nbformat": 4,
 "nbformat_minor": 2
}
