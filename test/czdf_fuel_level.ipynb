{
 "cells": [
  {
   "cell_type": "code",
   "execution_count": 1,
   "metadata": {},
   "outputs": [],
   "source": [
    "import pandas as pd\n",
    "\n",
    "from sqlalchemy import create_engine\n",
    "\n",
    "ck_properties_master = {  # clickhouse 数据库配置\n",
    "    # \"driver\": \"com.github.housepower.jdbc.ClickHouseDriver\",\n",
    "    \"driver\": \"ru.yandex.clickhouse.ClickHouseDriver\",\n",
    "    \"socket_timeout\": \"300000\",\n",
    "    \"rewriteBatchedStatements\": \"true\",\n",
    "    \"batchsize\": \"1000000\",\n",
    "    \"numPartitions\": \"8\",\n",
    "    \"user\": \"default\",\n",
    "    \"password\": \"\",\n",
    "    \"host\": \"10.129.165.72\",\n",
    "    \"database\": 'sdecdmp',\n",
    "    \"port\": 8123\n",
    "}\n",
    "\n",
    "ck_engine_master = create_engine(\n",
    "    f\"clickhouse://{ck_properties_master['user']}:@{ck_properties_master['host']}:{ck_properties_master['port']}/{ck_properties_master['database']}\"\n",
    ")"
   ]
  },
  {
   "cell_type": "code",
   "execution_count": 7,
   "metadata": {},
   "outputs": [
    {
     "name": "stdout",
     "output_type": "stream",
     "text": [
      "      fuel_level\n",
      "0           30.0\n",
      "1           30.0\n",
      "2           30.0\n",
      "3           30.0\n",
      "4           30.0\n",
      "...          ...\n",
      "53997        0.0\n",
      "53998        0.0\n",
      "53999        0.0\n",
      "54000        0.0\n",
      "54001        0.0\n",
      "\n",
      "[54002 rows x 1 columns]\n"
     ]
    },
    {
     "name": "stderr",
     "output_type": "stream",
     "text": [
      "/home/qjy20472/miniconda3/lib/python3.10/site-packages/matplotlib/cbook/__init__.py:1211: RuntimeWarning: invalid value encountered in less_equal\n",
      "  wiskhi = x[x <= hival]\n",
      "/home/qjy20472/miniconda3/lib/python3.10/site-packages/matplotlib/cbook/__init__.py:1218: RuntimeWarning: invalid value encountered in greater_equal\n",
      "  wisklo = x[x >= loval]\n",
      "/home/qjy20472/miniconda3/lib/python3.10/site-packages/matplotlib/cbook/__init__.py:1226: RuntimeWarning: invalid value encountered in less\n",
      "  x[x < stats['whislo']],\n",
      "/home/qjy20472/miniconda3/lib/python3.10/site-packages/matplotlib/cbook/__init__.py:1227: RuntimeWarning: invalid value encountered in greater\n",
      "  x[x > stats['whishi']],\n"
     ]
    },
    {
     "data": {
      "image/png": "[encoded data removed]",
      "text/plain": [
       "<Figure size 640x480 with 1 Axes>"
      ]
     },
     "metadata": {},
     "output_type": "display_data"
    }
   ],
   "source": [
    "# 画出随机一天czdf 油箱液位箱线图\n",
    "from sqlalchemy import text\n",
    "\n",
    "date = '2023-07-10'\n",
    "sc = 'SAE_S00096'\n",
    "fuel_level_nosql_df = pd.read_sql(\n",
    "    sql=text(\n",
    "        f\"\"\"\n",
    "        select\n",
    "                case\n",
    "                    when indexOf(code,'{sc}')>0 then parse_value[indexOf(code,'{sc}')]\n",
    "                end as fuel_level\n",
    "        from\n",
    "            sdecdmp.signal_data_nosql_all\n",
    "        where\n",
    "            clt_date = '{date}' and data_source = 'czdf'\n",
    "        \"\"\"\n",
    "    ),\n",
    "    con=ck_engine_master\n",
    ")\n",
    "fuel_level_nosql_df.loc[:, 'fuel_level'] = fuel_level_nosql_df['fuel_level'].astype(float)\n",
    "print(fuel_level_nosql_df)\n",
    "\n",
    "import matplotlib.pyplot as plt\n",
    "\n",
    "plt.boxplot(fuel_level_nosql_df['fuel_level'], labels=['czdf'])\n",
    "plt.title('2023-07-10 czdf fuel_level box')\n",
    "plt.show()"
   ]
  }
 ],
 "metadata": {
  "kernelspec": {
   "display_name": "base",
   "language": "python",
   "name": "python3"
  },
  "language_info": {
   "codemirror_mode": {
    "name": "ipython",
    "version": 3
   },
   "file_extension": ".py",
   "mimetype": "text/x-python",
   "name": "python",
   "nbconvert_exporter": "python",
   "pygments_lexer": "ipython3",
   "version": "3.10.10"
  },
  "orig_nbformat": 4
 },
 "nbformat": 4,
 "nbformat_minor": 2
}
